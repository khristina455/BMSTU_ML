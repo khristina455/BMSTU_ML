{
 "cells": [
  {
   "cell_type": "markdown",
   "metadata": {},
   "source": [
    "\n",
    "# ТМО РК1 ИУ5-62Б Кириллова Вариант 9\n",
    "## Задача 2, датасет 1\n",
    "## Задача №2.\n",
    "\n",
    "Для заданного набора данных проведите обработку пропусков в данных для одного категориального и одного количественного признака. Какие способы обработки пропусков в данных для категориальных и количественных признаков Вы использовали? Какие признаки Вы будете использовать для дальнейшего построения моделей машинного обучения и почему?\n",
    "Дополнительные требования по группам:\n",
    "\n",
    "Для произвольной колонки данных построить гистограмму.\n",
    "\n",
    "Набор данных load_iris из библиотеки sklearn не содержит пропусков и все признаки являются количественными (длина и ширина лепестка, длина и ширина чашелистика) и относятся к одному из трех видов ирисов, что является категориальной целевой переменной flower_size."
   ]
  },
  {
   "cell_type": "markdown",
   "metadata": {},
   "source": [
    "## Загрузим набор данных и добавим как категориальный признак, так и пропуски в данные, чтобы в дальнейшем их обработать"
   ]
  },
  {
   "cell_type": "code",
   "execution_count": 3,
   "metadata": {},
   "outputs": [
    {
     "name": "stdout",
     "output_type": "stream",
     "text": [
      "   sepal length (cm)  sepal width (cm)  petal length (cm)  petal width (cm)  \\\n",
      "0                5.1               3.5                1.4               0.2   \n",
      "1                4.9               3.0                1.4               0.2   \n",
      "2                4.7               3.2                1.3               0.2   \n",
      "3                4.6               3.1                1.5               0.2   \n",
      "4                5.0               3.6                1.4               0.2   \n",
      "\n",
      "   target flower_size  \n",
      "0     0.0       small  \n",
      "1     0.0       small  \n",
      "2     0.0       small  \n",
      "3     0.0       small  \n",
      "4     0.0       small  \n"
     ]
    }
   ],
   "source": [
    "from sklearn.datasets import load_iris\n",
    "import matplotlib.pyplot as plt\n",
    "import seaborn as sns\n",
    "import numpy as np\n",
    "import pandas as pd\n",
    "from sklearn.impute import SimpleImputer\n",
    "from sklearn.ensemble import RandomForestClassifier\n",
    "from sklearn.inspection import permutation_importance\n",
    "from sklearn.preprocessing import LabelEncoder\n",
    "\n",
    "iris = load_iris()\n",
    "df = pd.DataFrame(data=np.c_[iris['data'], iris['target']],\n",
    "                  columns=iris['feature_names'] + ['target'])\n",
    "\n",
    "np.random.seed(0)\n",
    "missing_values_count = 20\n",
    "missing_indices = np.random.choice(df.shape[0], missing_values_count, replace=False)\n",
    "df.loc[missing_indices, 'sepal length (cm)'] = np.nan\n",
    "df['flower_size'] = pd.qcut(df['sepal length (cm)'].fillna(df['sepal length (cm)'].median() * df['sepal width (cm)'].median() + df['petal length (cm)'].median() * df['petal width (cm)'].median()), 4, labels=[\"small\", \"mid\", \"big\", \"large\"])\n",
    "print(df.head())"
   ]
  },
  {
   "cell_type": "markdown",
   "metadata": {},
   "source": [
    "## Обработка пропусков\n",
    "\n",
    "Для обработки пропусков в категориальном признаке flower_size мы можем использовать метод SimpleImputer с наиболее встречающимися. Для категориальных признаков потребовалось закодировать их, заполнить закодированными значениями, а потом раскодировать."
   ]
  },
  {
   "cell_type": "code",
   "execution_count": 4,
   "metadata": {},
   "outputs": [
    {
     "name": "stdout",
     "output_type": "stream",
     "text": [
      "   sepal length (cm)  sepal width (cm)  petal length (cm)  petal width (cm)  \\\n",
      "0                5.1               3.5                1.4               0.2   \n",
      "1                4.9               3.0                1.4               0.2   \n",
      "2                4.7               3.2                1.3               0.2   \n",
      "3                4.6               3.1                1.5               0.2   \n",
      "4                5.0               3.6                1.4               0.2   \n",
      "\n",
      "   target flower_size  \n",
      "0     0.0       small  \n",
      "1     0.0       small  \n",
      "2     0.0       small  \n",
      "3     0.0       small  \n",
      "4     0.0       small  \n"
     ]
    }
   ],
   "source": [
    "label_encoder = LabelEncoder()\n",
    "df['flower_size'] = label_encoder.fit_transform(df['flower_size'])\n",
    "\n",
    "imputer = SimpleImputer(strategy='median')\n",
    "df['sepal length (cm)'] = imputer.fit_transform(df[['sepal length (cm)']])\n",
    "\n",
    "imputer_mode = SimpleImputer(strategy='most_frequent')\n",
    "df['flower_size'] = imputer_mode.fit_transform(df[['flower_size']])\n",
    "\n",
    "df['flower_size'] = label_encoder.inverse_transform(df['flower_size'].astype(int))\n",
    "print(df.head())"
   ]
  },
  {
   "cell_type": "markdown",
   "metadata": {},
   "source": [
    "## Построение модели\n",
    "В данном наборе данных небольшое количество входных переменных и все они напрямую коррелируют с целевым признаком - классом ирисов. Поэтому для дальнейшего построения модели классификации можно включать все доступные входные переменные в модель. Если рассматривать данные в альтернативном контексте и строить модель регрессии для прогнозирования входных переменных, то стоило бы ещё воспользоваться one-hot кодированием класса ирисов."
   ]
  },
  {
   "cell_type": "markdown",
   "metadata": {},
   "source": [
    "## Гистограмма"
   ]
  },
  {
   "cell_type": "code",
   "execution_count": 6,
   "metadata": {},
   "outputs": [
    {
     "data": {
      "image/png": "[encoded data removed]",
      "text/plain": [
       "<Figure size 800x600 with 1 Axes>"
      ]
     },
     "metadata": {},
     "output_type": "display_data"
    }
   ],
   "source": [
    "column_name = 'sepal width (cm)'\n",
    "column_data = df[column_name]\n",
    "\n",
    "plt.figure(figsize=(8, 6))\n",
    "plt.hist(column_data, bins=20, color='skyblue', edgecolor='black')\n",
    "plt.title(f'Гистограмма для колонки {column_name}')\n",
    "plt.xlabel(f'Значения длины {column_name}')\n",
    "plt.ylabel('Количество значений')\n",
    "plt.grid(True)\n",
    "plt.show()"
   ]
  }
 ],
 "metadata": {
  "kernelspec": {
   "display_name": ".venv",
   "language": "python",
   "name": "python3"
  },
  "language_info": {
   "codemirror_mode": {
    "name": "ipython",
    "version": 3
   },
   "file_extension": ".py",
   "mimetype": "text/x-python",
   "name": "python",
   "nbconvert_exporter": "python",
   "pygments_lexer": "ipython3",
   "version": "3.10.12"
  }
 },
 "nbformat": 4,
 "nbformat_minor": 2
}
